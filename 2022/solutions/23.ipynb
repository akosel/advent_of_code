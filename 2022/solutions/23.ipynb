{
 "cells": [
  {
   "cell_type": "code",
   "execution_count": 36,
   "id": "518a45a2",
   "metadata": {},
   "outputs": [
    {
     "data": {
      "text/html": [
       "<style>.container { width:100% !important; }</style>"
      ],
      "text/plain": [
       "<IPython.core.display.HTML object>"
      ]
     },
     "metadata": {},
     "output_type": "display_data"
    },
    {
     "name": "stdout",
     "output_type": "stream",
     "text": [
      "done 940\n",
      "answer 16496\n"
     ]
    }
   ],
   "source": [
    "import time\n",
    "from collections import defaultdict\n",
    "from IPython.display import display, HTML, clear_output\n",
    "display(HTML(\"<style>.container { width:100% !important; }</style>\"))\n",
    "\n",
    "\n",
    "\n",
    "def is_alone(elf, elves):\n",
    "    adjustments = [\n",
    "        (-1, -1), (0, -1), (1, -1),\n",
    "        (-1, 1), (0, 1), (1, 1),\n",
    "        (-1, 0), (1, 0),\n",
    "    ]\n",
    "    x, y = elf\n",
    "    \n",
    "    surroundings = set([(x + nx, y + ny) for nx, ny in adjustments])\n",
    "    \n",
    "    adjacent_elves = surroundings.intersection(elves)\n",
    "    return not adjacent_elves\n",
    "\n",
    "def spread_out(elves, propose_order):\n",
    "    propose = defaultdict(list)\n",
    "    final = set()\n",
    "    for elf in elves:\n",
    "        x, y = elf\n",
    "        if is_alone(elf, elves):\n",
    "            final.add(elf)\n",
    "            continue\n",
    "            \n",
    "        found_spot = False\n",
    "        for order in propose_order:\n",
    "            coords = set([(x + nx, y + ny) for nx, ny in order])\n",
    "            elves_in_direction = coords.intersection(elves)\n",
    "            if not elves_in_direction:\n",
    "                nx, ny = order[1]\n",
    "                propose[(x + nx, y + ny)].append(elf)\n",
    "                found_spot = True\n",
    "                break\n",
    "        if not found_spot:\n",
    "            final.add(elf)\n",
    "    \n",
    "    for move, elves in propose.items():\n",
    "        if len(elves) == 1:\n",
    "            final.add(move)\n",
    "        else:\n",
    "            final.update(elves)\n",
    "    \n",
    "    return final\n",
    "    \n",
    "def visualize(elves, x1, y1, x2, y2):\n",
    "\n",
    "    rows = []\n",
    "    for y in range(y1, y2+1):\n",
    "        row = ''\n",
    "        for x in range(x1, x2+1):\n",
    "            coord = (x, y)\n",
    "            if coord in elves:\n",
    "                row += '#'\n",
    "            else:\n",
    "                row += '.'w\n",
    "                \n",
    "        rows.append(row)\n",
    "    return '\\n'.join(rows)\n",
    "def run():\n",
    "    with open('../inputs/23.txt') as f:\n",
    "        elves = set()\n",
    "        y = 0\n",
    "        for line in f:\n",
    "            line = line.strip()\n",
    "            for x, ch in enumerate(line):\n",
    "                if ch == '#':\n",
    "                    elves.add((x, y))\n",
    "            y += 1\n",
    "\n",
    "        propose_order = [\n",
    "            [(-1, -1), (0, -1), (1, -1)], # NW, N, NE\n",
    "            [(-1, 1), (0, 1), (1, 1)], # SW, S, SE\n",
    "            [(-1, -1), (-1, 0), (-1, 1)], # NW, W, SW\n",
    "            [(1, -1), (1, 0), (1, 1)], # NE, E, SE\n",
    "        ]\n",
    "\n",
    "        i = 1\n",
    "        while True:\n",
    "            propose = spread_out(elves, propose_order)\n",
    "            if len(propose) != len(elves):\n",
    "                raise Exception(f\"Proposed spot count should equal elves {len(propose)} vs {len(elves)}\")\n",
    "            if propose == elves:\n",
    "                print('done', i)\n",
    "                break\n",
    "\n",
    "            elves = propose\n",
    "#             clear_output(wait=True)\n",
    "#             print(visualize(elves, -2, -2,9, 8 ))\n",
    "            \n",
    "            propose_order = propose_order[1:] + propose_order[0:1]\n",
    "            i += 1\n",
    "#             time.sleep(1)\n",
    "                \n",
    "\n",
    "        min_x, min_y, max_x, max_y = float('inf'), float('inf'), float('-inf'), float('-inf')\n",
    "\n",
    "        for elf in elves:\n",
    "            x, y = elf\n",
    "            min_x, min_y, max_x, max_y = min(min_x, x), min(min_y, y), max(max_x, x), max(max_y, y)\n",
    "\n",
    "#         print(min_x, min_y, max_x, max_y)\n",
    "#         print(visualize(elves, min_x, min_y, max_x, max_y))\n",
    "        \n",
    "        answer = ((max_x - min_x + 1) * (max_y - min_y + 1)) - len(elves)\n",
    "        print('answer', answer)\n",
    "run()"
   ]
  },
  {
   "cell_type": "code",
   "execution_count": null,
   "id": "712a1ca7",
   "metadata": {},
   "outputs": [],
   "source": [
    "# too high: 16496"
   ]
  }
 ],
 "metadata": {
  "kernelspec": {
   "display_name": "Python 3 (ipykernel)",
   "language": "python",
   "name": "python3"
  },
  "language_info": {
   "codemirror_mode": {
    "name": "ipython",
    "version": 3
   },
   "file_extension": ".py",
   "mimetype": "text/x-python",
   "name": "python",
   "nbconvert_exporter": "python",
   "pygments_lexer": "ipython3",
   "version": "3.10.4"
  }
 },
 "nbformat": 4,
 "nbformat_minor": 5
}
