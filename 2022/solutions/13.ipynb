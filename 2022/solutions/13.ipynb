{
 "cells": [
  {
   "cell_type": "code",
   "execution_count": 62,
   "id": "5f6a3946",
   "metadata": {
    "scrolled": true
   },
   "outputs": [
    {
     "name": "stdout",
     "output_type": "stream",
     "text": [
      "4894\n",
      "[124, 195] 24180\n"
     ]
    }
   ],
   "source": [
    "import operator\n",
    "import math\n",
    "import re\n",
    "import json\n",
    "import copy\n",
    "import functools\n",
    "from typing import List\n",
    "\n",
    "from collections import defaultdict\n",
    "from heapq import *\n",
    "\n",
    "\n",
    "def is_ordered(left, right):\n",
    "    \n",
    "    if isinstance(left, int) and isinstance(right, int):\n",
    "        if left > right:\n",
    "            return -1\n",
    "        elif left < right:\n",
    "            return 1\n",
    "        else:\n",
    "            return 0\n",
    "        \n",
    "    if isinstance(left, list) and isinstance(right, list):\n",
    "        lm, rm = copy.deepcopy(left), copy.deepcopy(right)\n",
    "        while lm and rm:\n",
    "            l, r = lm.pop(0), rm.pop(0)\n",
    "            result = is_ordered(l, r)\n",
    "            \n",
    "            if result == 0:\n",
    "                continue\n",
    "            else:\n",
    "                return result\n",
    "   \n",
    "        if not rm and not lm:\n",
    "            return 0\n",
    "        \n",
    "        if lm and not rm:\n",
    "            return -1\n",
    "        \n",
    "\n",
    "\n",
    "        \n",
    "    if isinstance(left, list) and not isinstance(right, list):\n",
    "        return is_ordered(left, [right])\n",
    "    elif not isinstance(left, list) and isinstance(right, list):\n",
    "        return is_ordered([left], right)\n",
    "        \n",
    "    return 1\n",
    "    \n",
    "\n",
    "with open('../inputs/13.txt') as f:\n",
    "    pairs = []\n",
    "    divider_packets = [[[2]], [[6]]]\n",
    "    everything = copy.deepcopy(divider_packets)\n",
    "    for line in f:\n",
    "        if not line.strip():\n",
    "            continue\n",
    "        left, right = json.loads(line), json.loads(next(f))\n",
    "        \n",
    "        pairs.append((left, right))\n",
    "        everything.extend([left, right])\n",
    "        \n",
    "    indices = []\n",
    "    for idx, pair in enumerate(pairs):\n",
    "        left, right = pair\n",
    "        result = is_ordered(left, right)\n",
    "        if result == 1:\n",
    "            indices.append(idx + 1)\n",
    "    print(sum(indices))\n",
    "    \n",
    "    everything.sort(key=functools.cmp_to_key(is_ordered))\n",
    "    \n",
    "    ordered = list(reversed(everything))\n",
    "    dividers = []\n",
    "    for idx, packet in enumerate(ordered):\n",
    "        if json.dumps(packet) in [json.dumps(d) for d in divider_packets]:\n",
    "            dividers.append(idx + 1)\n",
    "            \n",
    "    print(dividers, math.prod(dividers))"
   ]
  }
 ],
 "metadata": {
  "kernelspec": {
   "display_name": "Python 3 (ipykernel)",
   "language": "python",
   "name": "python3"
  },
  "language_info": {
   "codemirror_mode": {
    "name": "ipython",
    "version": 3
   },
   "file_extension": ".py",
   "mimetype": "text/x-python",
   "name": "python",
   "nbconvert_exporter": "python",
   "pygments_lexer": "ipython3",
   "version": "3.10.6"
  }
 },
 "nbformat": 4,
 "nbformat_minor": 5
}
