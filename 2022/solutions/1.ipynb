{
 "cells": [
  {
   "cell_type": "code",
   "execution_count": 16,
   "id": "24a29f35",
   "metadata": {},
   "outputs": [
    {
     "name": "stdout",
     "output_type": "stream",
     "text": [
      "64980 64980\n",
      "65638 130618\n",
      "66186 196804\n"
     ]
    }
   ],
   "source": [
    "import heapq\n",
    "\n",
    "elves = []\n",
    "\n",
    "with open('../inputs/1.txt') as f:\n",
    "    counter = 0\n",
    "    for line in f:\n",
    "        if line.strip():\n",
    "            value = int(line)\n",
    "            counter += value\n",
    "        else:\n",
    "            if not elves or counter >= elves[0]:\n",
    "                heapq.heappush(elves, counter)\n",
    "            counter = 0\n",
    "            \n",
    "        if len(elves) > 3:\n",
    "            heapq.heappop(elves)\n",
    "            \n",
    "sum_ = 0\n",
    "while elves:\n",
    "    value = heapq.heappop(elves)\n",
    "    sum_ += value\n",
    "    \n",
    "    print(value, sum_)"
   ]
  }
 ],
 "metadata": {
  "kernelspec": {
   "display_name": "Python 3 (ipykernel)",
   "language": "python",
   "name": "python3"
  },
  "language_info": {
   "codemirror_mode": {
    "name": "ipython",
    "version": 3
   },
   "file_extension": ".py",
   "mimetype": "text/x-python",
   "name": "python",
   "nbconvert_exporter": "python",
   "pygments_lexer": "ipython3",
   "version": "3.10.6"
  }
 },
 "nbformat": 4,
 "nbformat_minor": 5
}
