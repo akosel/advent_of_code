{
 "cells": [
  {
   "cell_type": "code",
   "execution_count": 56,
   "id": "861aedd3",
   "metadata": {
    "scrolled": true
   },
   "outputs": [
    {
     "name": "stdout",
     "output_type": "stream",
     "text": [
      "1703\n",
      "\n",
      "496650\n"
     ]
    }
   ],
   "source": [
    "import re\n",
    "import math\n",
    "\n",
    "\n",
    "\n",
    "def is_visible(grid, i, j):\n",
    "\n",
    "    \n",
    "    l = grid[i][0:j]\n",
    "    r = grid[i][j+1:len(grid)]\n",
    "    \n",
    "    height = grid[i][j]\n",
    "    \n",
    "    if all([True if h < height else False for h in l]) or all([True if h < height else False for h in r]):\n",
    "        return True\n",
    "    \n",
    "    u = [grid[i-c-1][j] for c in range(i)]\n",
    "    d = [grid[i+c+1][j] for c in range((len(grid)-1) - i)]\n",
    "    \n",
    "    if all([True if h < height else False for h in u]) or all([True if h < height else False for h in d]):\n",
    "        return True\n",
    "    \n",
    "    return False\n",
    "\n",
    "\n",
    "def get_score(grid, i, j):\n",
    "    scores = []\n",
    "\n",
    "    l = reversed(grid[i][0:j])\n",
    "    r = grid[i][j+1:len(grid)]\n",
    "    u = [grid[i-c-1][j] for c in range(i)]\n",
    "    d = [grid[i+c+1][j] for c in range((len(grid)-1) - i)]\n",
    "    \n",
    "    \n",
    "    directions = [l, r, u, d]\n",
    "    \n",
    "    height = grid[i][j]\n",
    "    for direction in directions:\n",
    "        score = 0\n",
    "        for tree in direction:\n",
    "            score += 1\n",
    "            if tree >= height:\n",
    "                break\n",
    "        scores.append(score)\n",
    "    \n",
    "    score = math.prod(scores)\n",
    "    return score\n",
    "\n",
    "with open('../inputs/8.txt') as f:\n",
    "    grid = []\n",
    "    for line in f:\n",
    "        row = [int(height) for height in line.strip()]\n",
    "        grid.append(row)\n",
    "    \n",
    "    coords = []\n",
    "    max_ = 0\n",
    "    for i in range(len(grid[0])):\n",
    "        for j in range(len(grid)):\n",
    "            score = get_score(grid, i, j)\n",
    "            max_ = max(max_, score)\n",
    "            \n",
    "            if is_visible(grid, i, j):\n",
    "                coords.append((i, j, score))\n",
    "                \n",
    "    print(len(coords), max_, sep='\\n\\n')"
   ]
  },
  {
   "cell_type": "code",
   "execution_count": 54,
   "id": "733f5893",
   "metadata": {},
   "outputs": [
    {
     "data": {
      "text/plain": [
       "[3, 2]"
      ]
     },
     "execution_count": 54,
     "metadata": {},
     "output_type": "execute_result"
    }
   ],
   "source": [
    "x = [1,2,3,4]\n",
    "\n",
    "x[2:0:-1]"
   ]
  }
 ],
 "metadata": {
  "kernelspec": {
   "display_name": "Python 3 (ipykernel)",
   "language": "python",
   "name": "python3"
  },
  "language_info": {
   "codemirror_mode": {
    "name": "ipython",
    "version": 3
   },
   "file_extension": ".py",
   "mimetype": "text/x-python",
   "name": "python",
   "nbconvert_exporter": "python",
   "pygments_lexer": "ipython3",
   "version": "3.10.6"
  }
 },
 "nbformat": 4,
 "nbformat_minor": 5
}
