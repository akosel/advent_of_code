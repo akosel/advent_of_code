{
 "cells": [
  {
   "cell_type": "code",
   "execution_count": 28,
   "id": "861aedd3",
   "metadata": {},
   "outputs": [
    {
     "name": "stdout",
     "output_type": "stream",
     "text": [
      "2665\n"
     ]
    }
   ],
   "source": [
    "from collections import defaultdict\n",
    "\n",
    "def find_nonrepeated_sequence(sequence: str, n: int):\n",
    "    counts = defaultdict(int)\n",
    "    \n",
    "    i, runner = 0, 0\n",
    "    \n",
    "    while runner < len(sequence):\n",
    "        if runner > (n - 1):\n",
    "            counts[sequence[i]] -= 1\n",
    "            if not counts[sequence[i]]:\n",
    "                del counts[sequence[i]]\n",
    "            i += 1\n",
    "        \n",
    "        counts[sequence[runner]] += 1\n",
    "        if len(counts.keys()) == n:\n",
    "            return runner + 1\n",
    "        \n",
    "        runner += 1\n",
    "\n",
    "        \n",
    "    raise Exception(f'No nonrepeated {n} character sequence detected')\n",
    "        \n",
    "    \n",
    "with open('../inputs/6.txt') as f:\n",
    "    sequence = f.read()\n",
    "    \n",
    "    print(find_nonrepeated_sequence(sequence, 14))"
   ]
  }
 ],
 "metadata": {
  "kernelspec": {
   "display_name": "Python 3 (ipykernel)",
   "language": "python",
   "name": "python3"
  },
  "language_info": {
   "codemirror_mode": {
    "name": "ipython",
    "version": 3
   },
   "file_extension": ".py",
   "mimetype": "text/x-python",
   "name": "python",
   "nbconvert_exporter": "python",
   "pygments_lexer": "ipython3",
   "version": "3.10.6"
  }
 },
 "nbformat": 4,
 "nbformat_minor": 5
}
