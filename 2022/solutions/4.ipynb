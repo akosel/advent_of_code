{
 "cells": [
  {
   "cell_type": "code",
   "execution_count": 23,
   "id": "500cf481",
   "metadata": {
    "scrolled": true
   },
   "outputs": [
    {
     "name": "stdout",
     "output_type": "stream",
     "text": [
      "830\n"
     ]
    }
   ],
   "source": [
    "\n",
    "\n",
    "with open('../inputs/4.txt') as f:\n",
    "    bad = []\n",
    "    for line in f:\n",
    "        p1, p2 = line.strip().split(',')\n",
    "        \n",
    "        x1,x2 = p1.split('-')\n",
    "        y1,y2 = p2.split('-')\n",
    "        \n",
    "#         print(x1, x2, y1, y2)\n",
    "        a1, a2 = set(range(int(x1), int(x2) + 1)), set(range(int(y1), int(y2) + 1))\n",
    "        \n",
    "        i = a1.intersection(a2)\n",
    "        \n",
    "        if i:\n",
    "#             print(a1, a2, p1, p2, sep='\\n')\n",
    "            bad.append(u)\n",
    "            \n",
    "print(len(bad))"
   ]
  }
 ],
 "metadata": {
  "kernelspec": {
   "display_name": "Python 3 (ipykernel)",
   "language": "python",
   "name": "python3"
  },
  "language_info": {
   "codemirror_mode": {
    "name": "ipython",
    "version": 3
   },
   "file_extension": ".py",
   "mimetype": "text/x-python",
   "name": "python",
   "nbconvert_exporter": "python",
   "pygments_lexer": "ipython3",
   "version": "3.10.6"
  }
 },
 "nbformat": 4,
 "nbformat_minor": 5
}
