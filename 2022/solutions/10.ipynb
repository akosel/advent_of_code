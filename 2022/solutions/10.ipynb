{
 "cells": [
  {
   "cell_type": "code",
   "execution_count": 57,
   "id": "842f3bf7",
   "metadata": {},
   "outputs": [
    {
     "name": "stdout",
     "output_type": "stream",
     "text": [
      "###..####.#..#.###..###..#....#..#.###..\n",
      "#..#.#....#..#.#..#.#..#.#....#..#.#..#.\n",
      "#..#.###..####.#..#.#..#.#....#..#.###..\n",
      "###..#....#..#.###..###..#....#..#.#..##\n",
      "#.#..#....#..#.#....#.#..#....#..#.#..##\n",
      "#..#.####.#..#.#....#..#.####..##..###..\n"
     ]
    }
   ],
   "source": [
    "class CPU:\n",
    "    def __init__(self):\n",
    "        self.cycles = 1\n",
    "        self.register = 1\n",
    "        self.instructions = self.read()\n",
    "        self.output = 0\n",
    "        self.viz = []\n",
    "        self.row = ''\n",
    "        \n",
    "    def tick(self):\n",
    "        instruction = next(self.instructions)\n",
    "        self.process(instruction)\n",
    "    \n",
    "    def process(self, line):\n",
    "        cycles = 0\n",
    "        value = 0\n",
    "        if line.startswith('noop'):\n",
    "            cycles = 1\n",
    "        if line.startswith('addx'):\n",
    "            value = int(line.split(' ')[1])\n",
    "            cycles = 2\n",
    "            \n",
    "        for i in range(cycles):\n",
    "            r = range(self.register,self.register+3)\n",
    "            \n",
    "            if (self.cycles % 40) in r:\n",
    "                self.row += '#'\n",
    "            else:\n",
    "                self.row += '.'\n",
    "                                \n",
    "            if self.cycles in range(0, 280, 40):\n",
    "                self.output += self.cycles * self.register\n",
    "                self.viz.append(self.row)\n",
    "                self.row = ''\n",
    "            self.cycles += 1\n",
    "        \n",
    "        self.register += value\n",
    "        \n",
    "    def __str__(self):\n",
    "        return '\\n'.join(self.viz)\n",
    "        \n",
    "    def read(self):\n",
    "        with open('../inputs/10.txt') as f:\n",
    "            for line in f:\n",
    "                yield line\n",
    "            \n",
    "    \n",
    "cpu = CPU()\n",
    "\n",
    "while True:\n",
    "    try:\n",
    "        cpu.tick()\n",
    "    except:\n",
    "        break\n",
    "print(cpu)"
   ]
  },
  {
   "cell_type": "code",
   "execution_count": 55,
   "id": "c3889c9f",
   "metadata": {},
   "outputs": [
    {
     "name": "stdout",
     "output_type": "stream",
     "text": [
      "##..##..##..##..##..##..##..##..##..##..\n",
      "###...###...###...###...###...###...###.\n",
      "####....####....####....####....####....\n",
      "#####.....#####.....#####.....#####.....\n",
      "######......######......######......###.\n",
      "#######.......#######.......#######.....\n"
     ]
    }
   ],
   "source": [
    "print(cpu)"
   ]
  }
 ],
 "metadata": {
  "kernelspec": {
   "display_name": "Python 3 (ipykernel)",
   "language": "python",
   "name": "python3"
  },
  "language_info": {
   "codemirror_mode": {
    "name": "ipython",
    "version": 3
   },
   "file_extension": ".py",
   "mimetype": "text/x-python",
   "name": "python",
   "nbconvert_exporter": "python",
   "pygments_lexer": "ipython3",
   "version": "3.10.4"
  }
 },
 "nbformat": 4,
 "nbformat_minor": 5
}
