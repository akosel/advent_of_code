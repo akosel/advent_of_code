{
 "cells": [
  {
   "cell_type": "code",
   "execution_count": 14,
   "id": "500cf481",
   "metadata": {
    "scrolled": false
   },
   "outputs": [
    {
     "name": "stdout",
     "output_type": "stream",
     "text": [
      "2716\n"
     ]
    }
   ],
   "source": [
    "def find_duplicates(groups):    \n",
    "    last = set(groups[0])\n",
    "    \n",
    "    for pack in groups[1:]:\n",
    "        seen = set(list(pack))\n",
    "        last = last.intersection(seen)\n",
    "    badge = list(last)[0]\n",
    "    return badge\n",
    "\n",
    "def get_priority(d):\n",
    "    if ord(d) > 96:\n",
    "        return ord(d) - 96\n",
    "    return ord(d) - 38\n",
    "    \n",
    "    \n",
    "from collections import defaultdict\n",
    "\n",
    "with open('../inputs/3.txt') as f:\n",
    "    groups = []\n",
    "    mapping = defaultdict(list)\n",
    "    sum_ = 0\n",
    "    for line in f:\n",
    "        groups.append(list(line.strip()))\n",
    "        if len(groups) == 3:\n",
    "            badge = find_duplicates(groups)\n",
    "            sum_ += get_priority(badge)\n",
    "            groups = []\n",
    "print(sum_)\n",
    "\n"
   ]
  }
 ],
 "metadata": {
  "kernelspec": {
   "display_name": "Python 3 (ipykernel)",
   "language": "python",
   "name": "python3"
  },
  "language_info": {
   "codemirror_mode": {
    "name": "ipython",
    "version": 3
   },
   "file_extension": ".py",
   "mimetype": "text/x-python",
   "name": "python",
   "nbconvert_exporter": "python",
   "pygments_lexer": "ipython3",
   "version": "3.10.6"
  }
 },
 "nbformat": 4,
 "nbformat_minor": 5
}
