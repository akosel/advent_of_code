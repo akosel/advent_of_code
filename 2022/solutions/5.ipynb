{
 "cells": [
  {
   "cell_type": "code",
   "execution_count": 43,
   "id": "500cf481",
   "metadata": {
    "scrolled": true
   },
   "outputs": [
    {
     "name": "stdout",
     "output_type": "stream",
     "text": [
      "SSCGWJCRB\n"
     ]
    }
   ],
   "source": [
    "import re\n",
    "\n",
    "with open('../inputs/5.txt') as f:\n",
    "    stacks = [list() for _ in range(9)]\n",
    "    for line in f:\n",
    "        if line.strip().startswith('move'):\n",
    "            result = re.search(r\"move ([0-9]+) from ([0-9]+) to ([0-9]+)\", line)\n",
    "            values = [int(r) for r in result.groups()]\n",
    "            count = values[0]\n",
    "            remove_from = values[1] - 1\n",
    "            append_to = values[2] - 1\n",
    "            if (count > len(stacks[remove_from])):\n",
    "                raise Exception('Something is wrong')\n",
    "            \n",
    "            removed = stacks[remove_from][:count]\n",
    "            stacks[remove_from] = stacks[remove_from][count:]\n",
    "            \n",
    "            stacks[append_to] = removed + stacks[append_to]\n",
    "        else:\n",
    "            i = 0\n",
    "            while line:\n",
    "                ch = line[0]\n",
    "                jump = 1\n",
    "                if ch == '[':\n",
    "                    jump = 1\n",
    "                elif ord(ch) >= 65 and ord(ch) <= 90:\n",
    "                    stacks[i].append(ch)\n",
    "                elif ch == ']':\n",
    "                    jump = 2\n",
    "                    i += 1\n",
    "                else:\n",
    "                    jump = 4\n",
    "                    i += 1\n",
    "\n",
    "                line = line[jump:]\n",
    "            \n",
    "            \n",
    "\n",
    "    top = ''.join([ch[0] for ch in stacks])\n",
    "print(top)"
   ]
  }
 ],
 "metadata": {
  "kernelspec": {
   "display_name": "Python 3 (ipykernel)",
   "language": "python",
   "name": "python3"
  },
  "language_info": {
   "codemirror_mode": {
    "name": "ipython",
    "version": 3
   },
   "file_extension": ".py",
   "mimetype": "text/x-python",
   "name": "python",
   "nbconvert_exporter": "python",
   "pygments_lexer": "ipython3",
   "version": "3.10.6"
  }
 },
 "nbformat": 4,
 "nbformat_minor": 5
}
