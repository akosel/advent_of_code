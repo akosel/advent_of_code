{
 "cells": [
  {
   "cell_type": "code",
   "execution_count": 2,
   "id": "6ea53219",
   "metadata": {
    "scrolled": true
   },
   "outputs": [
    {
     "data": {
      "text/html": [
       "<style>.container { width:100% !important; }</style>"
      ],
      "text/plain": [
       "<IPython.core.display.HTML object>"
      ]
     },
     "metadata": {},
     "output_type": "display_data"
    },
    {
     "name": "stdout",
     "output_type": "stream",
     "text": [
      "(21, 21, 21)\n",
      "# pockets 1394\n",
      "17328 14868\n",
      "answer 2460\n"
     ]
    }
   ],
   "source": [
    "import re\n",
    "import copy\n",
    "import time\n",
    "import matplotlib.pyplot as plt\n",
    "from mpl_toolkits.mplot3d import Axes3D\n",
    "import numpy as np\n",
    " \n",
    "from collections import defaultdict\n",
    "\n",
    "from IPython.display import display, HTML, clear_output\n",
    "display(HTML(\"<style>.container { width:100% !important; }</style>\"))\n",
    "\n",
    "def get_adjacent(coord):\n",
    "    x, y, z = coord\n",
    "    \n",
    "    coords = {(x+1, y, z), (x, y+1, z), (x, y, z+1), (x-1, y, z), (x, y-1, z), (x, y, z-1)}\n",
    "    \n",
    "    return coords\n",
    "\n",
    "def is_air_pocket(start, lava, pockets, exposed):\n",
    "\n",
    "    queue = list(get_adjacent(start))\n",
    "    seen = {start}\n",
    "    \n",
    "    while queue:\n",
    "        coord = queue.pop(0)\n",
    "        if coord in seen or coord in lava:\n",
    "            continue\n",
    "            \n",
    "        seen.add(coord)\n",
    "        \n",
    "        # if we reach something we know is an air pocket, then this must be an air pocket\n",
    "        if coord in pockets:\n",
    "            return True\n",
    "        \n",
    "        x, y, z = coord\n",
    "        \n",
    "        # if we are outside normal bounds, we are free\n",
    "        if x < 0 or y < 0 or z < 0:\n",
    "            return False\n",
    "        \n",
    "        # if something is next to something we know is exposed, it must also be exposed\n",
    "        if coord in exposed:\n",
    "            return False\n",
    "\n",
    "        \n",
    "        queue.extend(list(get_adjacent(coord)))\n",
    "    return True\n",
    "    \n",
    "\n",
    "def get_air_pockets(lava, bounds):\n",
    "    \"\"\" Must find path from edge to outside air \"\"\"\n",
    "    mx, my, mz = bounds\n",
    "    pockets = set()\n",
    "    exposed = {(0, 0, 0), bounds}\n",
    "    for x in range(1, mx):\n",
    "        for y in range(1, my):\n",
    "            for z in range(1, mz):\n",
    "                coord = (x, y, z)\n",
    "                \n",
    "                # we are only searching for empty space\n",
    "                if coord in lava:\n",
    "                    continue\n",
    "                else:\n",
    "                    if is_air_pocket(coord, lava, pockets, exposed):\n",
    "                        pockets.add(coord)\n",
    "                    else:\n",
    "                        exposed.add(coord)\n",
    "                    \n",
    "    return pockets\n",
    "\n",
    "with open('../inputs/18.txt') as f:\n",
    "    lava = set()\n",
    "    for line in f:\n",
    "        coord = tuple([int(c) for c in line.strip().split(',')])\n",
    "        lava.add(coord)\n",
    "        \n",
    "    bounds = (0, 0, 0)\n",
    "    \n",
    "    for coord in lava:\n",
    "        x1, y1, z1 = coord\n",
    "        x2, y2, z2 = bounds\n",
    "        \n",
    "        bounds = (max(x1, x2), max(y1, y2), max(z1, z2))\n",
    "    print(bounds)\n",
    "    air_pockets = get_air_pockets(lava, bounds)\n",
    "    print('# pockets', len(air_pockets))\n",
    "    \n",
    "    total_sides = 6 * len(lava)\n",
    "    trapped_sides = []\n",
    "    for coord in lava:\n",
    "        neighbors = get_adjacent(coord)\n",
    "        \n",
    "        for neighbor in neighbors:\n",
    "            # if neighbor is lava, side is not exposed\n",
    "            if neighbor in lava:\n",
    "                trapped_sides.append(neighbor)\n",
    "            # neighbor is an air pocket, it will never be reached\n",
    "            if neighbor in air_pockets:\n",
    "                trapped_sides.append(neighbor)\n",
    "                \n",
    "    print(total_sides, len(trapped_sides))\n",
    "    print('answer', total_sides - len(trapped_sides))"
   ]
  },
  {
   "cell_type": "code",
   "execution_count": null,
   "id": "16433516",
   "metadata": {},
   "outputs": [],
   "source": [
    "# 2459 too low\n",
    "# 3000 too high\n",
    "# 2729 too high\n",
    "\n",
    "(2, 11, 8) in air_pockets"
   ]
  },
  {
   "cell_type": "code",
   "execution_count": null,
   "id": "74dbd62f",
   "metadata": {},
   "outputs": [],
   "source": [
    "2459 + 270"
   ]
  },
  {
   "cell_type": "code",
   "execution_count": null,
   "id": "7059a67b",
   "metadata": {},
   "outputs": [],
   "source": []
  },
  {
   "cell_type": "code",
   "execution_count": null,
   "id": "eafe6792",
   "metadata": {
    "scrolled": false
   },
   "outputs": [],
   "source": [
    "%matplotlib notebook\n",
    "\n",
    "\n",
    "adj_bounds = (bounds[0]+1, bounds[1]+1, bounds[2]+1)\n",
    "lp = np.zeros(adj_bounds, dtype=bool)\n",
    "for coord in lava:\n",
    "    x, y, z = coord\n",
    "    lp[x][y][z] = True\n",
    "    \n",
    "a = np.zeros(adj_bounds, dtype=bool)\n",
    "for coord in air_pockets:\n",
    "    x, y, z = coord\n",
    "    a[x][y][z] = True\n",
    "\n",
    "# Plot figure\n",
    "fig = plt.figure()\n",
    "ax = fig.add_subplot(111, projection='3d')\n",
    " \n",
    "    \n",
    "alpha = 0.1\n",
    "colors = np.empty(list(adj_bounds) + [4], dtype=np.float32)\n",
    "\n",
    "colors[:] = [0, 0, 1, alpha] # blue\n",
    "\n",
    "# Voxels is used to customizations of the\n",
    "# sizes, positions and colors.\n",
    "ax.voxels(lp, facecolors=colors)\n",
    "\n",
    "\n",
    "alpha = 1\n",
    "acolors = np.empty(list(adj_bounds) + [4], dtype=np.float32)\n",
    "\n",
    "acolors[:] = [1, 0, 0, alpha] # red\n",
    "ax.voxels(a, facecolors=acolors)\n",
    "\n",
    "plt.show()"
   ]
  }
 ],
 "metadata": {
  "kernelspec": {
   "display_name": "Python 3 (ipykernel)",
   "language": "python",
   "name": "python3"
  },
  "language_info": {
   "codemirror_mode": {
    "name": "ipython",
    "version": 3
   },
   "file_extension": ".py",
   "mimetype": "text/x-python",
   "name": "python",
   "nbconvert_exporter": "python",
   "pygments_lexer": "ipython3",
   "version": "3.10.4"
  }
 },
 "nbformat": 4,
 "nbformat_minor": 5
}
